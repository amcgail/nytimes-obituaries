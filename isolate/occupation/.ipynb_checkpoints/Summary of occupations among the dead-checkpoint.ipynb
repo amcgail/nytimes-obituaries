{
 "cells": [
  {
   "cell_type": "markdown",
   "metadata": {},
   "source": [
    "# Setup\n",
    "\n",
    "The following lines of code need to be run once before anything else.\n",
    "\n",
    "They load the necessary libraries of code, and the proper codes."
   ]
  },
  {
   "cell_type": "code",
   "execution_count": null,
   "metadata": {
    "collapsed": false
   },
   "outputs": [],
   "source": [
    "import sys\n",
    "from os import path\n",
    "sys.path.append(\"/home/alec/projects/nytimes-obituaries/lib\")\n",
    "\n",
    "import occ, nlp, wiki\n",
    "\n",
    "nlp.nlp.restricted = True"
   ]
  },
  {
   "cell_type": "code",
   "execution_count": null,
   "metadata": {
    "collapsed": false,
    "scrolled": true
   },
   "outputs": [],
   "source": [
    "coder = occ.Coder()\n",
    "coder.loadPreviouslyCoded(\"coding1000\", rand=True)"
   ]
  },
  {
   "cell_type": "markdown",
   "metadata": {},
   "source": [
    "# Summary of occupational coding"
   ]
  },
  {
   "cell_type": "code",
   "execution_count": null,
   "metadata": {
    "collapsed": false,
    "scrolled": true
   },
   "outputs": [],
   "source": [
    "from collections import Counter\n",
    "\n",
    "occCounter = Counter()\n",
    "\n",
    "numCoded = 0\n",
    "total = 0\n",
    "numCodes = 0\n",
    "\n",
    "for d in coder.obituaries:\n",
    "    total += 1\n",
    "    \n",
    "    if len(d.guess) > 0:\n",
    "        numCoded += 1\n",
    "    \n",
    "    for g in d.guess:\n",
    "        occCounter.update( g['occ'] )\n",
    "        \n",
    "        numCodes += 1\n",
    "\n",
    "print( \"%s / %s documents coded\" % (numCoded, total) )\n",
    "print( \"%s total OCC codes applied\" % numCodes )\n",
    "\n",
    "print()\n",
    "\n",
    "for occ_code, count in occCounter.most_common(n=10):\n",
    "    print(\"%s got %0.1f%% of codes\" % (occ_code, 100*float(count)/numCodes))"
   ]
  },
  {
   "cell_type": "markdown",
   "metadata": {},
   "source": [
    "# Specific obituaries and their coding"
   ]
  },
  {
   "cell_type": "code",
   "execution_count": null,
   "metadata": {
    "collapsed": false,
    "scrolled": true
   },
   "outputs": [],
   "source": [
    "selection_method = 2\n",
    "\n",
    "# ---- select a document by its index: -------\n",
    "if selection_method == 1:\n",
    "    selected_document = coder.obituaries[4]\n",
    "\n",
    "# ---- select a random document ------\n",
    "if selection_method == 2:\n",
    "    import random\n",
    "    selected_document = random.choice(coder.obituaries)\n",
    "    \n",
    "# ---- search by file name ---- #\n",
    "if selection_method == 3:\n",
    "    selected_document = coder.findObitByInfo(fName=\"Indobit-A-NYT1996_1-500-143.txt\")\n",
    "\n",
    "    \n",
    "# displays the selected obituary\n",
    "from IPython.core.display import HTML\n",
    "\n",
    "html = \"\"\n",
    "html += \"<h2>%s</h2>\" % selected_document.info['title']\n",
    "html += \"<br><br>\"\n",
    "html += \"<pre>%s</pre>\" % selected_document.info['fullBody']\n",
    "\n",
    "HTML(html)"
   ]
  },
  {
   "cell_type": "markdown",
   "metadata": {},
   "source": [
    "# Lookup obituaries by occupational code"
   ]
  },
  {
   "cell_type": "code",
   "execution_count": null,
   "metadata": {
    "collapsed": false
   },
   "outputs": [],
   "source": [
    "occ_to_look_for = \"285\"\n",
    "\n",
    "obits_we_found = []\n",
    "\n",
    "for d in coder.obituaries:\n",
    "    for g in d.guess:\n",
    "        if occ_to_look_for in g['occ']:\n",
    "            obits_we_found.append(d)\n",
    "            break\n",
    "\n",
    "from IPython.core.display import HTML\n",
    "\n",
    "html = \"\"\n",
    "\n",
    "html += \"<h2>Results (looked up '%s', and found %d)</h2>\" % (occ_to_look_for, len(obits_we_found))\n",
    "\n",
    "for d in obits_we_found:\n",
    "    html += \"<h3>%s (%s)</h3>\" % (d.info['title'], d.info['fName'])\n",
    "    \n",
    "    html += \"<p>\"\n",
    "    html += d.info['fS_str']\n",
    "    html += \"</p>\"\n",
    "\n",
    "HTML(html)"
   ]
  }
 ],
 "metadata": {
  "kernelspec": {
   "display_name": "Python [conda env:py36]",
   "language": "python",
   "name": "conda-env-py36-py"
  },
  "language_info": {
   "codemirror_mode": {
    "name": "ipython",
    "version": 3
   },
   "file_extension": ".py",
   "mimetype": "text/x-python",
   "name": "python",
   "nbconvert_exporter": "python",
   "pygments_lexer": "ipython3",
   "version": "3.6.3"
  }
 },
 "nbformat": 4,
 "nbformat_minor": 2
}
