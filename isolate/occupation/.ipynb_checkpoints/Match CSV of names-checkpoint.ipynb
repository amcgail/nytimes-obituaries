{
 "cells": [
  {
   "cell_type": "markdown",
   "metadata": {},
   "source": [
    "# Setup\n",
    "\n",
    "The following lines of code need to be run once before anything else.\n",
    "\n",
    "They load the necessary libraries of code, and the proper codes."
   ]
  },
  {
   "cell_type": "code",
   "execution_count": 1,
   "metadata": {
    "collapsed": false
   },
   "outputs": [
    {
     "name": "stdout",
     "output_type": "stream",
     "text": [
      "Loading term-code associations into variable 'codes' from /home/alec/projects/nytimes-obituaries/lib/../w2c_source/compiledCodes.csv...\n"
     ]
    }
   ],
   "source": [
    "import sys\n",
    "from os import path\n",
    "sys.path.append(\"/home/alec/projects/nytimes-obituaries/lib\")\n",
    "\n",
    "import occ, nlp, wiki\n",
    "\n",
    "nlp.nlp.restricted = True"
   ]
  },
  {
   "cell_type": "code",
   "execution_count": 2,
   "metadata": {
    "collapsed": false,
    "scrolled": true
   },
   "outputs": [],
   "source": [
    "coder = occ.Coder()\n",
    "coder.loadDocs()"
   ]
  },
  {
   "cell_type": "code",
   "execution_count": null,
   "metadata": {
    "collapsed": true
   },
   "outputs": [],
   "source": []
  }
 ],
 "metadata": {
  "kernelspec": {
   "display_name": "Python [conda env:py36]",
   "language": "python",
   "name": "conda-env-py36-py"
  },
  "language_info": {
   "codemirror_mode": {
    "name": "ipython",
    "version": 3
   },
   "file_extension": ".py",
   "mimetype": "text/x-python",
   "name": "python",
   "nbconvert_exporter": "python",
   "pygments_lexer": "ipython3",
   "version": "3.6.3"
  }
 },
 "nbformat": 4,
 "nbformat_minor": 2
}
