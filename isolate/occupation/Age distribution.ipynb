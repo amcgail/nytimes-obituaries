{
 "cells": [
  {
   "cell_type": "markdown",
   "metadata": {},
   "source": [
    "# Setup\n",
    "\n",
    "The following lines of code need to be run once before anything else.\n",
    "\n",
    "They load the necessary libraries of code, and the proper codes."
   ]
  },
  {
   "cell_type": "code",
   "execution_count": 1,
   "metadata": {
    "collapsed": false
   },
   "outputs": [
    {
     "name": "stdout",
     "output_type": "stream",
     "text": [
      "Loading term-code associations into variable 'codes' from /home/alec/projects/nytimes-obituaries/lib/../w2c_source/compiledCodes.csv...\n"
     ]
    }
   ],
   "source": [
    "import sys\n",
    "from os import path\n",
    "sys.path.append(\"/home/alec/projects/nytimes-obituaries/lib\")\n",
    "\n",
    "import occ, nlp, wiki\n",
    "\n",
    "nlp.nlp.restricted = True"
   ]
  },
  {
   "cell_type": "code",
   "execution_count": 4,
   "metadata": {
    "collapsed": false,
    "scrolled": true
   },
   "outputs": [
    {
     "name": "stdout",
     "output_type": "stream",
     "text": [
      "loaded 998 documents\n"
     ]
    }
   ],
   "source": [
    "coder = occ.Coder()\n",
    "coder.loadPreviouslyCoded(\"coding1000\")"
   ]
  },
  {
   "cell_type": "markdown",
   "metadata": {},
   "source": [
    "# Histogram of ages at death"
   ]
  },
  {
   "cell_type": "code",
   "execution_count": 5,
   "metadata": {
    "collapsed": false
   },
   "outputs": [
    {
     "name": "stderr",
     "output_type": "stream",
     "text": [
      "/home/alec/anaconda2/envs/py36/lib/python3.6/site-packages/matplotlib/font_manager.py:279: UserWarning: Matplotlib is building the font cache using fc-list. This may take a moment.\n",
      "  'Matplotlib is building the font cache using fc-list. '\n"
     ]
    }
   ],
   "source": [
    "import pandas as pd\n",
    "import numpy as np\n",
    "import matplotlib.pyplot as plt\n",
    "%matplotlib inline"
   ]
  },
  {
   "cell_type": "code",
   "execution_count": 9,
   "metadata": {
    "collapsed": false
   },
   "outputs": [
    {
     "data": {
      "text/plain": [
       "array([[<matplotlib.axes._subplots.AxesSubplot object at 0x7f024fcf9828>]], dtype=object)"
      ]
     },
     "execution_count": 9,
     "metadata": {},
     "output_type": "execute_result"
    },
    {
     "data": {
      "image/png": "[encoded data removed]",
      "text/plain": [
       "<matplotlib.figure.Figure at 0x7f024fccd9e8>"
      ]
     },
     "metadata": {},
     "output_type": "display_data"
    }
   ],
   "source": [
    "all_ages = [x.age for x in coder.obituaries]\n",
    "agedf = pd.DataFrame({\"age\":all_ages})\n",
    "agedf.hist(bins=20)"
   ]
  },
  {
   "cell_type": "markdown",
   "metadata": {},
   "source": [
    "# What are those really low ages?\n",
    "\n",
    "They seem to be errors, and need some investigation"
   ]
  },
  {
   "cell_type": "code",
   "execution_count": 12,
   "metadata": {
    "collapsed": true
   },
   "outputs": [],
   "source": [
    "low_ages = [x for x in coder.obituaries if x.age < 20]"
   ]
  },
  {
   "cell_type": "code",
   "execution_count": 13,
   "metadata": {
    "collapsed": false
   },
   "outputs": [
    {
     "name": "stdout",
     "output_type": "stream",
     "text": [
      "Ben Heineman, Multifaceted Businessman, Dies at 98\n",
      "John Fairfax, Who Rowed Across Oceans, Dies at 74\n",
      "Harrison S. Kravis, Student, 19\n",
      "Sir Rex Hunt, Symbol of British Defiance In the Windswept Falklands, Dies at 86\n",
      "Georges Hereil, 71, Industrialist; Called the Father of the Caravelle\n",
      "Harry K. Weiss, Realty Executive, 83\n",
      "Charles Keyes, 76, Parson in Appalachian Hills\n",
      "Walt Arfons, a Tinkerer Who Gave Racecars Wings, Dies at 96\n",
      "Nora Kaye Honored In Memorial Tribute By Artist Colleagues\n",
      "Recalling the Civilized Voice Of a Critic, Vincent Canby\n"
     ]
    }
   ],
   "source": [
    "for obit in low_ages:\n",
    "    print(obit.info[\"title\"])"
   ]
  },
  {
   "cell_type": "code",
   "execution_count": 21,
   "metadata": {
    "collapsed": false
   },
   "outputs": [
    {
     "name": "stdout",
     "output_type": "stream",
     "text": [
      "16 \n",
      " Ben W. Heineman, a lawyer and corporate leader who took over railroads, created\n",
      " one of the nation's first conglomerates and became a close confidant and adviser\n",
      " to President Lyndon B. Johnson, died on Sunday in Waukesha, Wis. He was 98.The\n",
      " cause was a stroke, his son, Ben Jr., said.\n",
      " Joseph A. Califano Jr., who was Johnson's chief domestic aide, said in an\n",
      " interview Thursday that the president had asked him countless times to call Mr.\n",
      " Heineman for advice. He said the president valued Mr. Heineman's business\n",
      " acumen, honesty and grasp of the laws and social programs that the Johnson\n",
      " administration hoped to carry out in areas like civil rights, health, education,\n",
      " pollution control and consumer protection.\n",
      " ''More than anyone, he understood what we were trying to do,'' Mr. Califano\n",
      " said. ''He was quite a selfless person. He had no personal agenda. He told it\n",
      " like it was, which is very hard, and the most important thing you can do for a\n",
      " president or one of his top aides, like me, because people are usually fawning\n",
      " all over you.''\n",
      " While he worked in law or business, Mr. Heineman often held various government\n",
      " jobs in Illinois, nearly all unpaid, serving Gov. Adlai E. Stevenson and Mayor\n",
      " Richard J. Daley of Chicago. Johnson offered him a number of posts -- ambassador\n",
      " to the United Nations, or head of the Commerce Department, Office of Management\n",
      " and Budget or the Department of Health, Education and Welfare -- all of which he\n",
      " declined. He did, however, serve as chairman of the White House Conference on\n",
      " Civil Rights.\n",
      " Mr. Heineman and his family lived in an integrated neighborhood in Chicago, and\n",
      " he considered people who moved out because blacks moved in to be\n",
      " ''reprehensible.''\n",
      " Apart from his government service, Mr. Heineman, who once described himself as\n",
      " ''a professional problem solver,'' had two successful careers: 20 years in law\n",
      " in Chicago, and 30 years in business. He turned toward business in 1954, when he\n",
      " led a group of stockholders in a proxy fight for control of the Minneapolis and\n",
      " St. Louis Railway, which had become known in some quarters as the ''Misery and\n",
      " Still Limping.''\n",
      " In a letter to shareholders, Mr. Heineman's upstart group accused the railroad's\n",
      " managers of running a ''gravy train'' for themselves and called for ''an end to\n",
      " laxness, extravagance and inefficiency.''\n",
      " The rebels won, and Mr. Heineman became chief executive of the railroad.\n",
      " In 1956, he took over a much larger rail system, the Chicago and North Western\n",
      " Railway, which had been notorious for breakdowns and mismanagement. He bought\n",
      " new equipment, made commuter trains run on time and fought the unions, insisting\n",
      " that outdated jobs be eliminated. By 1964, the railroad's $5.5 million deficit\n",
      " turned into a $23.2 million profit.\n",
      " Mr. Heineman began acquiring other businesses -- steel, clothing, chemicals --\n",
      " to form Northwest Industries, one of the country's first conglomerates. In 1972,\n",
      " under his direction, the company sold the railroad to its employees, yielding a\n",
      " $200 million tax benefit to Northwest, which Mr. Heineman then used to acquire\n",
      " more companies. He retired from the company in 1985.\n",
      " ''He refused to take stock options,'' Mr. Califano said. ''He thought anyone\n",
      " heading a corporation should pay their own money and invest in the corporation.\n",
      " This country today would be so much better off if we had even a half-dozen\n",
      " corporate leaders like Ben Heineman. There wasn't an ounce of greed in him.''\n",
      " Benjamin Walter Heineman was born on Feb. 10, 1914, in Wausau, Wis. He attended\n",
      " public schools and earned his pilot's license at 14. He hoped to go to Yale, but\n",
      " in 1930, when Mr. Heineman was 16, his father went bankrupt and committed\n",
      " suicide.\n",
      " He went to the University of Michigan from 1930 to 1933, and then persuaded the\n",
      " dean of Northwestern University Law School to let him enroll a year early. He\n",
      " graduated in 1936 at 22, editor of the law review and at the top of his class.\n",
      " He worked at law firms in Chicago and then started his own, Swiren & Heineman.\n",
      " During World War II, he served in Washington as assistant general counsel in the\n",
      " Office of Price Administration and then in North Africa with the State\n",
      " Department as a legal adviser, assistant director of the North African Economic\n",
      " Board and assistant to the ambassador to the Free French government.\n",
      " In 1951, Governor Stevenson secretly appointed him a special assistant attorney\n",
      " general to help break up a crime ring that was cheating the state of $10 million\n",
      " a year in cigarette taxes. Former members of Al Capone's gang were thought to\n",
      " have been part of the ring, and the investigation let to many arrests. Mr.\n",
      " Heineman's son said that there were death threats against the family and that,\n",
      " for a time, he and his sister had to be driven to school by the state police,\n",
      " who kept sawed-off shotguns at hand.\n",
      " In 1952, Mr. Heineman worked on Mr. Stevenson's presidential campaign as a\n",
      " speechwriter, collaborating with Arthur M. Schlesinger Jr. on a speech that\n",
      " denounced the tactics of Senator Joseph R. McCarthy, who led the hunt for\n",
      " Communists in the federal government. He was chairman of the Illinois Board of\n",
      " Higher Education from 1962 to 1969, and in 1966, when racial strife was at its\n",
      " worst, Mayor Daley appointed him chairman of the Chicago Civil Rights Summit\n",
      " Conference on Fair Housing.\n",
      " Mr. Heineman served on many boards in the arts, education and charity. In 2006,\n",
      " he and his wife, Natalie, donated their collection of glass sculptures, valued\n",
      " at about $10 million, to the Corning Museum of Glass in Corning, N.Y.\n",
      " Besides his son, Mr. Heineman is survived by a daughter, Martha Heineman Pieper,\n",
      " six grandchildren and two great-grandchildren. His wife died in 2010, after\n",
      " almost 75 years of marriage.\n",
      " As the head of a railroad, Mr. Heineman kept his customers in mind. He told Life\n",
      " magazine, in 1964, ''I don't think people want glamour -- they want trains to\n",
      " work and work on time. The same is true in all areas of transportation. If I\n",
      " were in the airplane business, I'd skip the Champagne and fancy meals but break\n",
      " my neck to provide planes that arrived and left exactly on time.''\n",
      " \n"
     ]
    }
   ],
   "source": [
    "investigate = low_ages[0]\n",
    "print(investigate.age, investigate.info[\"fullBody\"])"
   ]
  },
  {
   "cell_type": "code",
   "execution_count": null,
   "metadata": {
    "collapsed": true
   },
   "outputs": [],
   "source": []
  }
 ],
 "metadata": {
  "kernelspec": {
   "display_name": "Python [conda env:py36]",
   "language": "python",
   "name": "conda-env-py36-py"
  },
  "language_info": {
   "codemirror_mode": {
    "name": "ipython",
    "version": 3
   },
   "file_extension": ".py",
   "mimetype": "text/x-python",
   "name": "python",
   "nbconvert_exporter": "python",
   "pygments_lexer": "ipython3",
   "version": "3.6.3"
  }
 },
 "nbformat": 4,
 "nbformat_minor": 2
}
