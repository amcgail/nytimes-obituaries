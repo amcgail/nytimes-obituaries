{
 "cells": [
  {
   "cell_type": "markdown",
   "metadata": {},
   "source": [
    "# Setup\n",
    "\n",
    "The following lines of code need to be run once before anything else.\n",
    "\n",
    "They load the necessary libraries of code, and the proper codes."
   ]
  },
  {
   "cell_type": "code",
   "execution_count": 1,
   "metadata": {
    "collapsed": true
   },
   "outputs": [],
   "source": [
    "import sys\n",
    "from os import path\n",
    "sys.path.append(\"/home/alec/projects/nytimes-obituaries/lib\")\n",
    "\n",
    "import occ, nlp, wiki\n",
    "\n",
    "nlp.nlp.restricted = True"
   ]
  },
  {
   "cell_type": "code",
   "execution_count": 2,
   "metadata": {
    "scrolled": true
   },
   "outputs": [
    {
     "name": "stdout",
     "output_type": "stream",
     "text": [
      "Extracting word2code dictionary\n",
      "loaded 50 documents\n"
     ]
    }
   ],
   "source": [
    "coder = occ.Coder()\n",
    "coder.loadPreviouslyCoded(\"coding100\", rand=True, N=50)"
   ]
  },
  {
   "cell_type": "markdown",
   "metadata": {},
   "source": [
    "# Summary of occupational coding"
   ]
  },
  {
   "cell_type": "code",
   "execution_count": 4,
   "metadata": {
    "scrolled": true
   },
   "outputs": [
    {
     "name": "stdout",
     "output_type": "stream",
     "text": [
      "40 / 50 documents coded\n",
      "56 total OCC codes applied\n",
      "\n",
      "occ2000-285 got 5.4% of codes\n",
      "occ2000-023 got 5.4% of codes\n",
      "occ2000-210 got 5.4% of codes\n",
      "occ2000-034 got 5.4% of codes\n",
      "occ2000-432 got 5.4% of codes\n",
      "leader got 3.6% of codes\n",
      "occ2000-204 got 3.6% of codes\n",
      "occ2000-485 got 3.6% of codes\n",
      "occ2000-270 got 3.6% of codes\n",
      "occ2000-461 got 3.6% of codes\n"
     ]
    }
   ],
   "source": [
    "from collections import Counter\n",
    "\n",
    "occCounter = Counter()\n",
    "\n",
    "numCoded = 0\n",
    "total = 0\n",
    "numCodes = 0\n",
    "\n",
    "for d in coder.obituaries:\n",
    "    total += 1\n",
    "    \n",
    "    if len(d.guess) > 0:\n",
    "        numCoded += 1\n",
    "    \n",
    "    for g in d.guess:\n",
    "        occCounter.update( g['occ'] )\n",
    "        \n",
    "        numCodes += 1\n",
    "\n",
    "print( \"%s / %s documents coded\" % (numCoded, total) )\n",
    "print( \"%s total OCC codes applied\" % numCodes )\n",
    "\n",
    "print()\n",
    "\n",
    "for occ_code, count in occCounter.most_common(n=10):\n",
    "    print(\"%s got %0.1f%% of codes\" % (occ_code, 100*float(count)/numCodes))"
   ]
  },
  {
   "cell_type": "markdown",
   "metadata": {},
   "source": [
    "# Specific obituaries and their coding"
   ]
  },
  {
   "cell_type": "code",
   "execution_count": 18,
   "metadata": {
    "scrolled": true
   },
   "outputs": [
    {
     "data": {
      "text/html": [
       "<h2>Late Edition - Final\n",
       " Georgie Woods, D.J. and Rights Leader, 78</h2><br><br><pre> PHILADELPHIA, June 23\n",
       " Georgie Woods, who as a disc jockey introduced Philadelphia to the sounds of\n",
       " Stevie Wonder and the Temptations and became a prominent local voice of the\n",
       " civil rights movement, died on June 18 in Boynton Beach, Fla.. He was 78.\n",
       " The cause was probably a heart attack, said Mr. Woods's companion, Doris Harris.\n",
       " Known on the radio as ''the guy with the goods,'' Mr. Woods came to Philadelphia\n",
       " from New York in 1953 and used the airwaves of WDAS-AM and WHAT-AM to bring the\n",
       " city emerging talents like the Temptations and Michael Jackson.\n",
       " In the 1960's he would sometimes stop the music for hours on WDAS to talk about\n",
       " civil rights and the work of the Rev. Dr. Martin Luther King Jr., recalled Joe\n",
       " Tamburro, the station's former general manager.\n",
       " Mr. Woods marched in Selma, Ala., with King and helped charter 21 buses to take\n",
       " Philadelphians to Dr. King's March on Washington in 1963.\n",
       " ''In the 1950's and the 1960's, he was it -- the person everyone listened to,''\n",
       " said W. Wilson Goode, the mayor of Philadelphia from 1984 to 1991. ''He was an\n",
       " outstanding community and civil rights leader.''\n",
       " In 1986, Mr. Woods, who was black, sparked tensions with Asian-Americans when he\n",
       " advocated that blacks support black-owned businesses instead of those owned by\n",
       " Koreans.\n",
       " He served as a vice president of the local N.A.A.C.P. chapter. In 1967 he ran\n",
       " for a seat on the Philadelphia City Council, narrowly losing to the incumbent,\n",
       " Thomas M. Foglietta.\n",
       " Mr. Woods was planning to travel to Philadelphia in November to be inducted into\n",
       " the Broadcast Pioneers Hall of Fame, said Kal Rudman, a former WDAS disc jockey.\n",
       " In addition to Ms. Harris, Mr. Woods is survived by their daughter, Devin Simms\n",
       " of Hempstead, N.Y.; his wife, Gilda Woods, and their son, George Woods Jr., both\n",
       " of Philadelphia; two daughters from an earlier marriage; a brother, and four\n",
       " grandchildren.\n",
       " </pre>"
      ],
      "text/plain": [
       "<IPython.core.display.HTML object>"
      ]
     },
     "execution_count": 18,
     "metadata": {},
     "output_type": "execute_result"
    }
   ],
   "source": [
    "selection_method = 2\n",
    "\n",
    "# ---- select a document by its index: -------\n",
    "if selection_method == 1:\n",
    "    selected_document = coder.obituaries[4]\n",
    "\n",
    "# ---- select a random document ------\n",
    "if selection_method == 2:\n",
    "    import random\n",
    "    selected_document = random.choice(coder.obituaries)\n",
    "    \n",
    "# ---- search by file name ---- #\n",
    "if selection_method == 3:\n",
    "    selected_document = coder.findObitByInfo(fName=\"Indobit-A-NYT1996_1-500-143.txt\")\n",
    "\n",
    "    \n",
    "# displays the selected obituary\n",
    "from IPython.core.display import HTML\n",
    "\n",
    "html = \"\"\n",
    "html += \"<h2>%s</h2>\" % selected_document.info['title']\n",
    "html += \"<br><br>\"\n",
    "html += \"<pre>%s</pre>\" % selected_document.info['fullBody']\n",
    "\n",
    "HTML(html)"
   ]
  },
  {
   "cell_type": "markdown",
   "metadata": {},
   "source": [
    "# Lookup obituaries by occupational code"
   ]
  },
  {
   "cell_type": "code",
   "execution_count": 19,
   "metadata": {},
   "outputs": [
    {
     "data": {
      "text/html": [
       "<h2>Results (looked up 'occ2000-285', and found 3)</h2><h3>Monroe K. Spears, Literary Critic, 82 (Indobit-A-NYT1998_501-1000-227.txt)</h3><p>Monroe K. Spears, a critic, teacher and poet, died on May 23 at the Southern Tennessee Medical Center in Winchester, Tenn.</p><h3>Correction Appended\n",
       " Jerry S. Cohen, 70, Labor and Class-Action Lawyer, Is Dead (Indobit-A-NYT1996_1-500-3.txt)</h3><p>Jerry S. Cohen, a Washington, D.C., lawyer and author who represented farm workers, fishers, small businesses and others in prominent cases that made him one of the deans of class-action litigation in America, died last Tuesday in Sun Valley, Idaho, where he was on vacation.</p><h3>Leo Salkin Is Dead; Movie Scriptwriter And Animator, 80 (Indobit-A-NYT1993 - Sep 1 - Oct 31-312.txt)</h3><p>Leo Salkin, a Hollywood film animator and screenwriter who was the inspiration for the squinty-eyed cartoon character Mr. Magoo, died on Wednesday at St. Joseph's Hospital in Burbank, Calif.</p>"
      ],
      "text/plain": [
       "<IPython.core.display.HTML object>"
      ]
     },
     "execution_count": 19,
     "metadata": {},
     "output_type": "execute_result"
    }
   ],
   "source": [
    "occ_to_look_for = \"occ2000-285\"\n",
    "\n",
    "obits_we_found = []\n",
    "\n",
    "for d in coder.obituaries:\n",
    "    for g in d.guess:\n",
    "        if occ_to_look_for in g['occ']:\n",
    "            obits_we_found.append(d)\n",
    "            break\n",
    "\n",
    "from IPython.core.display import HTML\n",
    "\n",
    "html = \"\"\n",
    "\n",
    "html += \"<h2>Results (looked up '%s', and found %d)</h2>\" % (occ_to_look_for, len(obits_we_found))\n",
    "\n",
    "for d in obits_we_found:\n",
    "    html += \"<h3>%s (%s)</h3>\" % (d.info['title'], d.info['fName'])\n",
    "    \n",
    "    html += \"<p>\"\n",
    "    html += d.info['fS_str']\n",
    "    html += \"</p>\"\n",
    "\n",
    "HTML(html)"
   ]
  },
  {
   "cell_type": "code",
   "execution_count": null,
   "metadata": {
    "collapsed": true
   },
   "outputs": [],
   "source": []
  }
 ],
 "metadata": {
  "kernelspec": {
   "display_name": "Python 3",
   "language": "python",
   "name": "python3"
  },
  "language_info": {
   "codemirror_mode": {
    "name": "ipython",
    "version": 3
   },
   "file_extension": ".py",
   "mimetype": "text/x-python",
   "name": "python",
   "nbconvert_exporter": "python",
   "pygments_lexer": "ipython3",
   "version": "3.6.3"
  }
 },
 "nbformat": 4,
 "nbformat_minor": 2
}
