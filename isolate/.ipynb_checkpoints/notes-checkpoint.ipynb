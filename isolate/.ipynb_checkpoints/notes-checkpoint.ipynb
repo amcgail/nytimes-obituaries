{
 "cells": [
  {
   "cell_type": "markdown",
   "metadata": {},
   "source": [
    "# About this document\n",
    "\n",
    "Edit the cells below to add questions and comments.\n",
    "To edit a cell, select it and press the enter key.\n",
    "When you're done, press shift enter to \"run\" the Markdown cell, and see the presented result.\n",
    "\n",
    "You can _permanently_ edit this iPython notebook, so be careful.\n",
    "If you make a mistake, you can revert to previous checkpoints from the `File` menu."
   ]
  },
  {
   "cell_type": "markdown",
   "metadata": {},
   "source": [
    "# Questions\n",
    "\n",
    "+ (Alec) What else would you like to have access to?\n",
    "    + (Alec) Here's a sample answer to the question, feel free to delete it\n",
    "+ (Alec) Is this useful?"
   ]
  },
  {
   "cell_type": "code",
   "execution_count": null,
   "metadata": {
    "collapsed": true
   },
   "outputs": [],
   "source": []
  }
 ],
 "metadata": {
  "kernelspec": {
   "display_name": "Python 3",
   "language": "python",
   "name": "python3"
  },
  "language_info": {
   "codemirror_mode": {
    "name": "ipython",
    "version": 3
   },
   "file_extension": ".py",
   "mimetype": "text/x-python",
   "name": "python",
   "nbconvert_exporter": "python",
   "pygments_lexer": "ipython3",
   "version": "3.6.3"
  }
 },
 "nbformat": 4,
 "nbformat_minor": 2
}
