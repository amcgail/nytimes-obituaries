{
 "cells": [
  {
   "cell_type": "markdown",
   "metadata": {
    "collapsed": true
   },
   "source": [
    "# General overview\n",
    "\n",
    "Each running notebook is connected to a process on the server running Python. \n",
    "This process will hold in memory any variables which are created, \n",
    "    independently of any other iPython notebook,\n",
    "    for as long as the notebook is running."
   ]
  },
  {
   "cell_type": "markdown",
   "metadata": {},
   "source": [
    "# Available obituary codings\n",
    "\n",
    "+ **coding100** A random sample of 100 obituaries. Only used for testing.\n",
    "+ **coding1000** A random sample of 1000 obituaries. This is great for many purposes, and is a significant chunk of the 60k total obituaries."
   ]
  },
  {
   "cell_type": "markdown",
   "metadata": {},
   "source": [
    "# Setup\n",
    "\n",
    "At the beginning of each file, there will be a section with this title \"Setup\".\n",
    "These should be run first, before any other cell in the notebook.\n",
    "In general cells should be run in order, but this is especially true for these setup cells.\n",
    "Nothing will run without them.\n",
    "\n",
    "Typically this section will include commands importing necessary packages, such as the libraries written specifically for coding obituaries.\n",
    "Here we will also load any obituaries we intend to use in the notebook. "
   ]
  },
  {
   "cell_type": "code",
   "execution_count": 1,
   "metadata": {
    "collapsed": false
   },
   "outputs": [
    {
     "name": "stdout",
     "output_type": "stream",
     "text": [
      "Loading term-code associations into variable 'codes' from /home/alec/projects/nytimes-obituaries/lib/../w2c_source/compiledCodes.csv...\n"
     ]
    }
   ],
   "source": [
    "import sys\n",
    "from os import path\n",
    "sys.path.append(\"/home/alec/projects/nytimes-obituaries/lib\")\n",
    "\n",
    "import occ, nlp, wiki\n",
    "\n",
    "nlp.nlp.restricted = True"
   ]
  },
  {
   "cell_type": "code",
   "execution_count": 2,
   "metadata": {
    "collapsed": false
   },
   "outputs": [
    {
     "name": "stdout",
     "output_type": "stream",
     "text": [
      "loaded 998 documents\n"
     ]
    }
   ],
   "source": [
    "coder = occ.Coder()\n",
    "coder.loadPreviouslyCoded(\"coding1000\")"
   ]
  },
  {
   "cell_type": "markdown",
   "metadata": {},
   "source": [
    "# Available metadata on obituaries"
   ]
  },
  {
   "cell_type": "code",
   "execution_count": 10,
   "metadata": {
    "collapsed": false
   },
   "outputs": [
    {
     "name": "stdout",
     "output_type": "stream",
     "text": [
      "The variable `coder.obituaries` is a <class 'list'>\n"
     ]
    }
   ],
   "source": [
    "print( \"The variable `coder.obituaries` is a %s\" % type(coder.obituaries) )"
   ]
  },
  {
   "cell_type": "code",
   "execution_count": 11,
   "metadata": {
    "collapsed": false
   },
   "outputs": [
    {
     "name": "stdout",
     "output_type": "stream",
     "text": [
      "It currently contains 998 obituaries\n"
     ]
    }
   ],
   "source": [
    "print( \"It currently contains %s obituaries\" % len(coder.obituaries) )"
   ]
  },
  {
   "cell_type": "code",
   "execution_count": 42,
   "metadata": {
    "collapsed": true
   },
   "outputs": [],
   "source": [
    "# Let's take a look at one\n",
    "one_obituary = coder.obituaries[3]"
   ]
  },
  {
   "cell_type": "code",
   "execution_count": 43,
   "metadata": {
    "collapsed": false
   },
   "outputs": [
    {
     "data": {
      "text/plain": [
       "odict_keys(['fName', 'date', 'name', 'title', 'fullBody', 'first500', 'nWordsReport', 'nWordsCalc', 'distinctWords', 'fS_str'])"
      ]
     },
     "execution_count": 43,
     "metadata": {},
     "output_type": "execute_result"
    }
   ],
   "source": [
    "one_obituary.info.keys()"
   ]
  },
  {
   "cell_type": "code",
   "execution_count": 44,
   "metadata": {
    "collapsed": false
   },
   "outputs": [
    {
     "name": "stdout",
     "output_type": "stream",
     "text": [
      "The original filename: 'Indobit-A-NYT2007 - July 1 - Sep 30-79.txt'\n"
     ]
    }
   ],
   "source": [
    "print( \"The original filename: '%s'\" % one_obituary.info['fName'] )"
   ]
  },
  {
   "cell_type": "code",
   "execution_count": 45,
   "metadata": {
    "collapsed": false
   },
   "outputs": [
    {
     "name": "stdout",
     "output_type": "stream",
     "text": [
      "The date, parsed from the original format: july 27, 2007\n"
     ]
    }
   ],
   "source": [
    "print( \"The date, parsed from the original format: %s\" % one_obituary.info['date'] )"
   ]
  },
  {
   "cell_type": "code",
   "execution_count": 46,
   "metadata": {
    "collapsed": false
   },
   "outputs": [
    {
     "name": "stdout",
     "output_type": "stream",
     "text": [
      "The title given to the article: 'E. A. Boyse, 83, Dies; Multifaceted Doctor'\n"
     ]
    }
   ],
   "source": [
    "print( \"The title given to the article: '%s'\" % one_obituary.info['title'] )"
   ]
  },
  {
   "cell_type": "code",
   "execution_count": 52,
   "metadata": {
    "collapsed": false
   },
   "outputs": [
    {
     "name": "stdout",
     "output_type": "stream",
     "text": [
      "The full body of the obituary:\n",
      "\n",
      " Dr. Edward A. Boyse, a physician who did some of the earliest studies of the\n",
      " immune response, the body's system for recognizing and fighting off disease\n",
      " organisms and other foreign substances, and later worked on the genetic basis of\n",
      " bodily odors, died on July 14 in Tucson. He was 83.\n",
      " The cause was pneumonia, his family said.\n",
      " In the 1960s and 1970s, Dr. Boyse and others were among the earliest researchers\n",
      " to look at how antibodies formed by mouse cells are used in assembling an\n",
      " immune-system response to a surface protein, called an antigen. They were\n",
      " particularly interested in the response of white blood cells, or lymphocytes.\n",
      " The researchers were able to use the antibodies to differentiate among the cells\n",
      " that produced them. Their discoveries led to  ''a cornerstone of how\n",
      " immunologists have dissected the cellular basis of our immune response,'' said\n",
      " Harvey Cantor, a professor of pathology at Harvard.\n",
      " Dr. Cantor added that Dr. Boyse's use of inbred mice and antibodies in the\n",
      " laboratory became a standard practice in related immunological research. He said\n",
      " results from Dr. Boyse's studies of the immune response in mice had in large\n",
      " part been translated by others to humans.\n",
      " Again using mice, Dr. Boyse went on to explore the role of odor in helping an\n",
      " individual tell the difference between kin and those outside  his genetic\n",
      " family. Beginning in the 1970s, Dr. Boyse and Lewis Thomas, a fellow scientist\n",
      " and president of Memorial Sloan-Kettering Cancer Center, and others conducted\n",
      " experiments in how animals can communicate through odors.\n",
      " The researchers found that a group of genes in mice, the H-2 genes, were\n",
      " responsible for producing odors that allowed the mice  to recognize family\n",
      " members. In a series of papers published in Scientific American and other\n",
      " journals, their observations helped explain how mice can avoid the genetic risks\n",
      " of breeding with parents and siblings.\n",
      " A collaborator with Dr. Boyse, Gary K. Beauchamp, a biologist and director of\n",
      " the Monell Chemical Senses Center in Philadelphia, said the function of the\n",
      " genes almost certainly applied to a similar group of odor-producing genes in\n",
      " humans, with the same protective benefits. Dr. Boyse, he said, had found\n",
      " ''clever ways of developing experiments to demonstrate that function.''\n",
      " In other work, Dr. Boyse proposed in the 1980s that blood taken from the\n",
      " umbilical cord could be frozen and preserved, potentially for use later as a\n",
      " source of stem cells in replenishing the blood of its donor. This has since\n",
      " become a widely accepted practice.\n",
      " Edward Arthur Boyse, whose name was pronounced to rhyme with royce, was born in\n",
      " Worthing, England. He earned his medical degree from the University of London in\n",
      " 1957.\n",
      " Dr. Boyse joined Sloan-Kettering in 1962 and held appointments at New York\n",
      " University and Cornell. He was a professor of biology at Cornell from 1969 to\n",
      " 1989. He became an American citizen in 1979.\n",
      " He then moved to the University of Arizona, becoming a professor of microbiology\n",
      " and immunology; he officially retired in 1994.\n",
      " Dr. Boyse is survived by his wife, Judith Bard, who assisted in his research and\n",
      " was a co-author of some of his papers. The couple lived in Tucson. A previous\n",
      " marriage ended in divorce.\n",
      " He is also survived by a son, Conrad, of Newport Beach, Calif.; a daughter, Dr.\n",
      " Adrienne Martin, an anesthesiologist, of Beckenham, England; and five\n",
      " grandchildren.\n",
      " \n"
     ]
    }
   ],
   "source": [
    "print( \"The full body of the obituary:\")\n",
    "print( one_obituary.info['fullBody'] )"
   ]
  },
  {
   "cell_type": "code",
   "execution_count": 48,
   "metadata": {
    "collapsed": false
   },
   "outputs": [
    {
     "name": "stdout",
     "output_type": "stream",
     "text": [
      "A record of our guess as to the OCC code of the obituary:\n",
      "\n",
      "[{'occ': ['306', '070', '461', '306', '306'], 'preps': [], 'word': 'physician', 'state': 'vague_occWords'}, {'occ': [], 'preps': [], 'word': 'system', 'state': 'unclassified'}]\n"
     ]
    }
   ],
   "source": [
    "print( \"A record of our guess as to the OCC code of the obituary:\")\n",
    "print()\n",
    "print( one_obituary.guess )"
   ]
  },
  {
   "cell_type": "code",
   "execution_count": 49,
   "metadata": {
    "collapsed": false
   },
   "outputs": [
    {
     "name": "stdout",
     "output_type": "stream",
     "text": [
      "83\n"
     ]
    }
   ],
   "source": [
    "print( one_obituary.age )"
   ]
  },
  {
   "cell_type": "code",
   "execution_count": 50,
   "metadata": {
    "collapsed": false
   },
   "outputs": [
    {
     "name": "stdout",
     "output_type": "stream",
     "text": [
      "Dr. Edward A. Boyse\n"
     ]
    }
   ],
   "source": [
    "print( one_obituary.nameS )"
   ]
  }
 ],
 "metadata": {
  "kernelspec": {
   "display_name": "Python [conda env:py36]",
   "language": "python",
   "name": "conda-env-py36-py"
  },
  "language_info": {
   "codemirror_mode": {
    "name": "ipython",
    "version": 3
   },
   "file_extension": ".py",
   "mimetype": "text/x-python",
   "name": "python",
   "nbconvert_exporter": "python",
   "pygments_lexer": "ipython3",
   "version": "3.6.3"
  }
 },
 "nbformat": 4,
 "nbformat_minor": 2
}
