{
 "cells": [
  {
   "cell_type": "markdown",
   "metadata": {
    "collapsed": true
   },
   "source": [
    "# General overview\n",
    "\n",
    "Each running notebook is connected to a process on the server running Python. \n",
    "This process will hold in memory any variables which are created, \n",
    "    independently of any other iPython notebook,\n",
    "    for as long as the notebook is running."
   ]
  },
  {
   "cell_type": "markdown",
   "metadata": {},
   "source": [
    "# Available obituary codings\n",
    "\n",
    "+ **coding100** A random sample of 100 obituaries. Only used for testing.\n",
    "+ **coding5000** A random sample of 5000 obituaries. This is great for many purposes, and is a significant chunk of the 60k total obituaries."
   ]
  },
  {
   "cell_type": "markdown",
   "metadata": {},
   "source": [
    "# "
   ]
  }
 ],
 "metadata": {
  "kernelspec": {
   "display_name": "Python 3",
   "language": "python",
   "name": "python3"
  },
  "language_info": {
   "codemirror_mode": {
    "name": "ipython",
    "version": 3
   },
   "file_extension": ".py",
   "mimetype": "text/x-python",
   "name": "python",
   "nbconvert_exporter": "python",
   "pygments_lexer": "ipython3",
   "version": "3.6.3"
  }
 },
 "nbformat": 4,
 "nbformat_minor": 2
}
